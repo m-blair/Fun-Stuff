{
 "cells": [
  {
   "cell_type": "markdown",
   "source": [
    "$\\textbf{\\LaTeX MARKDOWN symbols and formulas}$"
   ],
   "metadata": {
    "collapsed": false,
    "pycharm": {
     "name": "#%% md\n"
    }
   }
  },
  {
   "cell_type": "markdown",
   "source": [
    "$\\begin{cases}\n",
    "\\nabla \\cdot E &= \\frac{\\rho}{\\varepsilon_0} \\\\\n",
    "\\nabla \\cdot B &= 0 \\\\\n",
    "\\nabla \\times E &= -\\frac{\\partial B}{\\partial t} \\\\\n",
    "\\nabla \\times B &= \\mu_0 j + \\frac{1}{c^2}\\frac{\\partial E}{\\partial t} \\\\\n",
    "\\end{cases}$\n"
   ],
   "metadata": {
    "collapsed": false,
    "pycharm": {
     "name": "#%% md\n"
    }
   }
  },
  {
   "cell_type": "markdown",
   "source": [
    "$P(t) = P_0 e^{rt}$"
   ],
   "metadata": {
    "collapsed": false,
    "pycharm": {
     "name": "#%% md\n"
    }
   }
  },
  {
   "cell_type": "markdown",
   "source": [
    "$\\begin{align}\n",
    "\\sin(x) &= \\sum_{n=0}^{\\infty} (-1)^n \\frac{x^{2n + 1}}{(2n + 1)!}\n",
    "&= x - \\frac{x^3}{3!} + \\frac{x^5}{5!} - \\dots \\\\\n",
    "\\cos(x) &= \\sum_{n=0}^{\\infty} (-1)^n \\frac{x^{2n}}{(2n)!}\n",
    "&= 1 - \\frac{x^2}{2!} + \\frac{x^4}{4!} - \\dots \\\\\n",
    "\\end{align}$"
   ],
   "metadata": {
    "collapsed": false,
    "pycharm": {
     "name": "#%% md\n"
    }
   }
  },
  {
   "cell_type": "markdown",
   "source": [
    "\n",
    "$e^{i \\pi} + 1 = 0$<br>\n",
    "\n",
    "$e^{i \\theta} = \\cos(\\theta) + i \\sin(\\theta)$<br>\n",
    "\n",
    "$f(a) = \\frac{1}{2 \\pi i}\\int_{C} \\frac{f(z)}{z - a} dz$<br><br>\n",
    "\n",
    "$f^{(n)}(a) = \\frac{n!}{2 \\pi i}\\int_{C} \\frac{f(z)}{(z - a)^{n+1}} dz$"
   ],
   "metadata": {
    "collapsed": false,
    "pycharm": {
     "name": "#%% md\n"
    }
   }
  },
  {
   "cell_type": "markdown",
   "source": [
    "\n",
    "$\\mathbb{R}$ - Real Numbers <br>\n",
    "$\\mathbb{C}$ - Complex Numbers <br>\n",
    "$\\mathbb{N}$ - Natural Numbers <br>\n",
    "$\\mathbb{Q}$ - Rational Numbers <br>\n",
    "$\\mathbb{Z}$ - Integers\n"
   ],
   "metadata": {
    "collapsed": false,
    "pycharm": {
     "name": "#%% md\n"
    }
   }
  },
  {
   "cell_type": "code",
   "execution_count": null,
   "outputs": [],
   "source": [],
   "metadata": {
    "collapsed": false,
    "pycharm": {
     "name": "#%%\n",
     "is_executing": true
    }
   }
  },
  {
   "cell_type": "code",
   "execution_count": null,
   "outputs": [],
   "source": [],
   "metadata": {
    "collapsed": false,
    "pycharm": {
     "name": "#%%\n"
    }
   }
  }
 ],
 "metadata": {
  "kernelspec": {
   "display_name": "Python 3",
   "language": "python",
   "name": "python3"
  },
  "language_info": {
   "codemirror_mode": {
    "name": "ipython",
    "version": 2
   },
   "file_extension": ".py",
   "mimetype": "text/x-python",
   "name": "python",
   "nbconvert_exporter": "python",
   "pygments_lexer": "ipython2",
   "version": "2.7.6"
  }
 },
 "nbformat": 4,
 "nbformat_minor": 0
}