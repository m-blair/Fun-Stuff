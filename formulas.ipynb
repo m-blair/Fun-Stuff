{
 "cells": [
  {
   "cell_type": "markdown",
   "source": [
    "$$\\underline{\\textbf{\\LaTeX MARKDOWN PRACTICE}}$$"
   ],
   "metadata": {
    "collapsed": false,
    "pycharm": {
     "name": "#%% md\n"
    }
   }
  },
  {
   "cell_type": "markdown",
   "source": [
    "$$\\underline{\\textbf{\\Large Maxwell's Equations}} \\\\\n",
    "\n",
    "\\begin{cases}\n",
    "\\nabla \\cdot E &= \\frac{\\rho}{\\varepsilon_0} \\\\\n",
    "\\nabla \\cdot B &= 0 \\\\\n",
    "\\nabla \\times E &= -\\frac{\\partial B}{\\partial t} \\\\\n",
    "\\nabla \\times B &= \\mu_0 j + \\frac{1}{c^2}\\frac{\\partial E}{\\partial t} \\\\\n",
    "\\end{cases}\n",
    "\n",
    "$$\n"
   ],
   "metadata": {
    "collapsed": false,
    "pycharm": {
     "name": "#%% md\n"
    }
   }
  },
  {
   "cell_type": "markdown",
   "source": [
    "$$\\underline{\\textbf{\\Large Population Growth}} \\\\\n",
    "P(t) = P_0 e^{rt}$$"
   ],
   "metadata": {
    "collapsed": false,
    "pycharm": {
     "name": "#%% md\n"
    }
   }
  },
  {
   "cell_type": "markdown",
   "source": [
    "$$\\begin{center}\n",
    "\\underline{\\textbf{\\Large Trig Function Series Representations}} \\\\\n",
    "\\end{center}$$\n",
    "$$\n",
    "\\begin{*align}\n",
    "\\sin(x) &= \\sum_{n=0}^{\\infty} (-1)^n \\frac{x^{2n + 1}}{(2n + 1)!}\n",
    "&= x - \\frac{x^3}{3!} + \\frac{x^5}{5!} - \\dots \\\\\n",
    "\\cos(x) &= \\sum_{n=0}^{\\infty} (-1)^n \\frac{x^{2n}}{(2n)!}\n",
    "&= 1 - \\frac{x^2}{2!} + \\frac{x^4}{4!} - \\dots \\\\\n",
    "\\end{*align}$$"
   ],
   "metadata": {
    "collapsed": false,
    "pycharm": {
     "name": "#%% md\n"
    }
   }
  },
  {
   "cell_type": "markdown",
   "source": [
    "$$\\underline{\\textbf{\\Large Complex Analysis Related}}$$\n",
    "\n",
    "$$\\underline{\\textit{Euler's Identity}} \\\\\n",
    "e^{i \\pi} + 1 = 0$$\n",
    "\n",
    "$$\\underline{\\textit{Euler's Formula}} \\\\\n",
    "e^{i \\theta} = \\cos(\\theta) + i \\sin(\\theta)$$\n",
    "\n",
    "$$\\underline{\\textit{Cauchy Integral Formula}} \\\\\n",
    "f(a) = \\frac{1}{2 \\pi i}\\int_{C} \\frac{f(z)}{z - a} dz$$\n",
    "\n",
    "$$\\underline{\\textit{Extended Cauchy Integral Formula}} \\\\\n",
    "f^{(n)}(a) = \\frac{n!}{2 \\pi i}\\int_{C} \\frac{f(z)}{(z - a)^{n+1}} dz\n",
    "$$"
   ],
   "metadata": {
    "collapsed": false,
    "pycharm": {
     "name": "#%% md\n"
    }
   }
  },
  {
   "cell_type": "markdown",
   "source": [
    "$$ \\underline{\\textbf{\\Large Number Groups}} \\\\\n",
    "\\mathbb{R} - \\text{Real Numbers} \\\\\n",
    "\\mathbb{C} - \\text{Complex Numbers} \\\\\n",
    "\\mathbb{N} - \\text{Natural Numbers}\\\\\n",
    "\\mathbb{Q} - \\text{Rational Numbers} \\\\\n",
    "\\mathbb{Z} - \\text{Integers}\n",
    "$$"
   ],
   "metadata": {
    "collapsed": false,
    "pycharm": {
     "name": "#%% md\n"
    }
   }
  }
 ],
 "metadata": {
  "kernelspec": {
   "display_name": "Python 3",
   "language": "python",
   "name": "python3"
  },
  "language_info": {
   "codemirror_mode": {
    "name": "ipython",
    "version": 2
   },
   "file_extension": ".py",
   "mimetype": "text/x-python",
   "name": "python",
   "nbconvert_exporter": "python",
   "pygments_lexer": "ipython2",
   "version": "2.7.6"
  }
 },
 "nbformat": 4,
 "nbformat_minor": 0
}